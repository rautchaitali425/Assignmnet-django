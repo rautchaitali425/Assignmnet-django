{
 "cells": [
  {
   "cell_type": "code",
   "execution_count": 3,
   "id": "7c41f256-8aca-46f6-a909-0c0816ad3642",
   "metadata": {},
   "outputs": [],
   "source": [
    "class Rectangle:\n",
    "    def __init__(self, length: int, width: int):\n",
    "        self.length = length\n",
    "        self.width = width\n",
    "\n",
    "    def __iter__(self):\n",
    "        yield {'length': self.length}\n",
    "        yield {'width': self.width}\n"
   ]
  },
  {
   "cell_type": "code",
   "execution_count": 4,
   "id": "e8afc321-fe13-4fb8-aecc-ec20fea25800",
   "metadata": {},
   "outputs": [
    {
     "name": "stdout",
     "output_type": "stream",
     "text": [
      "{'length': 10}\n",
      "{'width': 5}\n"
     ]
    }
   ],
   "source": [
    "rect = Rectangle(10, 5)\n",
    "for dimension in rect:\n",
    "    print(dimension)"
   ]
  },
  {
   "cell_type": "code",
   "execution_count": null,
   "id": "945aa154-c97d-4c11-881f-0f1319186e5a",
   "metadata": {},
   "outputs": [],
   "source": []
  },
  {
   "cell_type": "code",
   "execution_count": null,
   "id": "620d9d23-5e26-4c0e-aba7-5fef5b920d78",
   "metadata": {},
   "outputs": [],
   "source": []
  }
 ],
 "metadata": {
  "kernelspec": {
   "display_name": "Python 3 (ipykernel)",
   "language": "python",
   "name": "python3"
  },
  "language_info": {
   "codemirror_mode": {
    "name": "ipython",
    "version": 3
   },
   "file_extension": ".py",
   "mimetype": "text/x-python",
   "name": "python",
   "nbconvert_exporter": "python",
   "pygments_lexer": "ipython3",
   "version": "3.12.4"
  }
 },
 "nbformat": 4,
 "nbformat_minor": 5
}
